{
  "nbformat": 4,
  "nbformat_minor": 0,
  "metadata": {
    "colab": {
      "name": "project.ipynb",
      "provenance": [],
      "collapsed_sections": [],
      "authorship_tag": "ABX9TyN3e3ibup5xGUcIU+RqtBDz",
      "include_colab_link": true
    },
    "kernelspec": {
      "name": "python3",
      "display_name": "Python 3"
    },
    "language_info": {
      "name": "python"
    }
  },
  "cells": [
    {
      "cell_type": "markdown",
      "metadata": {
        "id": "view-in-github",
        "colab_type": "text"
      },
      "source": [
        "<a href=\"https://colab.research.google.com/github/jjjaennn27/AnonymousClass0401/blob/master/project.ipynb\" target=\"_parent\"><img src=\"https://colab.research.google.com/assets/colab-badge.svg\" alt=\"Open In Colab\"/></a>"
      ]
    },
    {
      "cell_type": "code",
      "execution_count": null,
      "metadata": {
        "colab": {
          "base_uri": "https://localhost:8080/"
        },
        "id": "_nVA_4QjW7SF",
        "outputId": "ddfda1da-a511-4712-eb8e-4cc826f97a42"
      },
      "outputs": [
        {
          "output_type": "stream",
          "name": "stdout",
          "text": [
            "Collecting transformers\n",
            "  Downloading transformers-4.19.2-py3-none-any.whl (4.2 MB)\n",
            "\u001b[K     |████████████████████████████████| 4.2 MB 7.5 MB/s \n",
            "\u001b[?25hRequirement already satisfied: requests in /usr/local/lib/python3.7/dist-packages (from transformers) (2.23.0)\n",
            "Requirement already satisfied: numpy>=1.17 in /usr/local/lib/python3.7/dist-packages (from transformers) (1.21.6)\n",
            "Collecting pyyaml>=5.1\n",
            "  Downloading PyYAML-6.0-cp37-cp37m-manylinux_2_5_x86_64.manylinux1_x86_64.manylinux_2_12_x86_64.manylinux2010_x86_64.whl (596 kB)\n",
            "\u001b[K     |████████████████████████████████| 596 kB 57.2 MB/s \n",
            "\u001b[?25hCollecting tokenizers!=0.11.3,<0.13,>=0.11.1\n",
            "  Downloading tokenizers-0.12.1-cp37-cp37m-manylinux_2_12_x86_64.manylinux2010_x86_64.whl (6.6 MB)\n",
            "\u001b[K     |████████████████████████████████| 6.6 MB 38.4 MB/s \n",
            "\u001b[?25hCollecting huggingface-hub<1.0,>=0.1.0\n",
            "  Downloading huggingface_hub-0.6.0-py3-none-any.whl (84 kB)\n",
            "\u001b[K     |████████████████████████████████| 84 kB 3.3 MB/s \n",
            "\u001b[?25hRequirement already satisfied: filelock in /usr/local/lib/python3.7/dist-packages (from transformers) (3.7.0)\n",
            "Requirement already satisfied: importlib-metadata in /usr/local/lib/python3.7/dist-packages (from transformers) (4.11.3)\n",
            "Requirement already satisfied: tqdm>=4.27 in /usr/local/lib/python3.7/dist-packages (from transformers) (4.64.0)\n",
            "Requirement already satisfied: packaging>=20.0 in /usr/local/lib/python3.7/dist-packages (from transformers) (21.3)\n",
            "Requirement already satisfied: regex!=2019.12.17 in /usr/local/lib/python3.7/dist-packages (from transformers) (2019.12.20)\n",
            "Requirement already satisfied: typing-extensions>=3.7.4.3 in /usr/local/lib/python3.7/dist-packages (from huggingface-hub<1.0,>=0.1.0->transformers) (4.2.0)\n",
            "Requirement already satisfied: pyparsing!=3.0.5,>=2.0.2 in /usr/local/lib/python3.7/dist-packages (from packaging>=20.0->transformers) (3.0.9)\n",
            "Requirement already satisfied: zipp>=0.5 in /usr/local/lib/python3.7/dist-packages (from importlib-metadata->transformers) (3.8.0)\n",
            "Requirement already satisfied: idna<3,>=2.5 in /usr/local/lib/python3.7/dist-packages (from requests->transformers) (2.10)\n",
            "Requirement already satisfied: urllib3!=1.25.0,!=1.25.1,<1.26,>=1.21.1 in /usr/local/lib/python3.7/dist-packages (from requests->transformers) (1.24.3)\n",
            "Requirement already satisfied: chardet<4,>=3.0.2 in /usr/local/lib/python3.7/dist-packages (from requests->transformers) (3.0.4)\n",
            "Requirement already satisfied: certifi>=2017.4.17 in /usr/local/lib/python3.7/dist-packages (from requests->transformers) (2021.10.8)\n",
            "Installing collected packages: pyyaml, tokenizers, huggingface-hub, transformers\n",
            "  Attempting uninstall: pyyaml\n",
            "    Found existing installation: PyYAML 3.13\n",
            "    Uninstalling PyYAML-3.13:\n",
            "      Successfully uninstalled PyYAML-3.13\n",
            "Successfully installed huggingface-hub-0.6.0 pyyaml-6.0 tokenizers-0.12.1 transformers-4.19.2\n"
          ]
        }
      ],
      "source": [
        "!pip install transformers"
      ]
    },
    {
      "cell_type": "code",
      "source": [
        "import torch\n",
        "from transformers import PreTrainedTokenizerFast\n",
        "from transformers import BartForConditionalGeneration\n",
        "\n",
        "tokenizer = PreTrainedTokenizerFast.from_pretrained('digit82/kobart-summarization')\n",
        "model = BartForConditionalGeneration.from_pretrained('digit82/kobart-summarization')\n",
        "\n",
        "text=\"\"\"\n",
        "나는 어제 가족들이랑 놀이공원에 다녀왔다. 회전목마도 타고 범퍼카도 타고 롤러코스터도 탔다.너무 재밌었다.\n",
        "날씨도 좋고 사람도 별로 없어서 놀이기구를 여러번 탈 수 있었다.\n",
        "낮에는 놀이기구들을 타고 동물들도 보았고 저녁에는 퍼레이드 공연을 봤다. 퍼레이드가 엄청 멋있었다. \n",
        "집에 돌아오니 11시가 넘었어서 많이 지치고 피곤했지만 재밌는 하루를 보내서 행복했다. ###\n",
        "\"\"\"\n",
        "\n",
        "print(\"일기 요약 : \" ) \n",
        "text = text.replace('\\n', ' ')\n",
        "\n",
        "raw_input_ids = tokenizer.encode(text)\n",
        "input_ids = [tokenizer.bos_token_id] + raw_input_ids + [tokenizer.eos_token_id]\n",
        "\n",
        "summary_ids = model.generate(torch.tensor([input_ids]),  num_beams=4,  max_length=512,  eos_token_id=1)\n",
        "tokenizer.decode(summary_ids.squeeze().tolist(), skip_special_tokens=True)\n"
      ],
      "metadata": {
        "colab": {
          "base_uri": "https://localhost:8080/",
          "height": 72
        },
        "id": "ohD1UNYgXQQo",
        "outputId": "3aba715b-6e7f-46d8-fcef-a9ff5fb4c788"
      },
      "execution_count": 23,
      "outputs": [
        {
          "output_type": "stream",
          "name": "stderr",
          "text": [
            "You passed along `num_labels=3` with an incompatible id to label map: {'0': 'NEGATIVE', '1': 'POSITIVE'}. The number of labels wil be overwritten to 2.\n"
          ]
        },
        {
          "output_type": "stream",
          "name": "stdout",
          "text": [
            "일기 요약 : \n"
          ]
        },
        {
          "output_type": "execute_result",
          "data": {
            "text/plain": [
              "'나는 어제 가족들이랑 놀이공원에 다녀왔고 가족들이랑 놀이공원에 다녀온 후 놀이기구를 여러번 탈 수 있고 동물들도 보았고 퍼레이드 공연을 봤다.'"
            ],
            "application/vnd.google.colaboratory.intrinsic+json": {
              "type": "string"
            }
          },
          "metadata": {},
          "execution_count": 23
        }
      ]
    },
    {
      "cell_type": "code",
      "source": [
        "import json\n",
        "import urllib.request\n",
        " \n",
        "client_id = \"3ND2XnI6seUgHS9vuqx_\" # 개발자센터에서 발급받은 Client ID 값\n",
        "client_secret = \"YjNIUDTT0y\" # 개발자센터에서 발급받은 Client Secret 값\n",
        " \n",
        "encText = urllib.parse.quote(\"나는 어제 가족들이랑 놀이공원에 다녀왔고 회전목마도 타고 범퍼카도 타고 롤러코스터도 탔으며 낮에는 놀이기구들을 타고 동물들도 보았고 저녁에는 퍼레이드 공연을 봤다.\")\n",
        "data = \"source=ko&target=en&text=\" + encText\n",
        "url = \"https://openapi.naver.com/v1/papago/n2mt\"\n",
        "request = urllib.request.Request(url)\n",
        "request.add_header(\"X-Naver-Client-Id\",client_id)\n",
        "request.add_header(\"X-Naver-Client-Secret\",client_secret)\n",
        "response = urllib.request.urlopen(request, data=data.encode(\"utf-8\"))\n",
        "rescode = response.getcode()\n",
        " \n",
        "if(rescode==200):\n",
        "    response_body = response.read()\n",
        "    print(json.loads(response_body)['message']['result']['translatedText'])\n",
        "else:\n",
        "    print(\"Error Code:\" + rescode)"
      ],
      "metadata": {
        "colab": {
          "base_uri": "https://localhost:8080/"
        },
        "id": "xOtWylXIXgN4",
        "outputId": "a40ee62a-3e7c-45e8-dd01-593921bb10fe"
      },
      "execution_count": null,
      "outputs": [
        {
          "output_type": "stream",
          "name": "stdout",
          "text": [
            "I went to an amusement park with my family yesterday, rode a merry-go-round, a bumper car, rode a roller coaster, rode rides during the day, saw animals, and watched a parade performance in the evening.\n"
          ]
        }
      ]
    },
    {
      "cell_type": "code",
      "source": [
        "import torch\n",
        "import json\n",
        "import urllib.request\n",
        "from transformers import PreTrainedTokenizerFast\n",
        "from transformers import BartForConditionalGeneration\n",
        "\n",
        "tokenizer = PreTrainedTokenizerFast.from_pretrained('digit82/kobart-summarization')\n",
        "model = BartForConditionalGeneration.from_pretrained('digit82/kobart-summarization')\n",
        "\n",
        "text=\"\"\"\n",
        "나는 어제 가족들이랑 놀이공원에 다녀왔다. 회전목마도 타고 범퍼카도 타고 롤러코스터도 탔다.너무 재밌었다.\n",
        "날씨도 좋고 사람도 별로 없어서 놀이기구를 여러번 탈 수 있었다.\n",
        "낮에는 놀이기구들을 타고 동물들도 보았고 저녁에는 퍼레이드 공연을 봤다. 퍼레이드가 엄청 멋있었다. \n",
        "집에 돌아오니 11시가 넘었어서 많이 지치고 피곤했지만 재밌는 하루를 보내서 행복했다. ###\n",
        "\"\"\"\n",
        "\n",
        "print(\"일기 요약 : \" ) \n",
        "text = text.replace('\\n', ' ')\n",
        "\n",
        "raw_input_ids = tokenizer.encode(text)\n",
        "input_ids = [tokenizer.bos_token_id] + raw_input_ids + [tokenizer.eos_token_id]\n",
        "\n",
        "summary_ids = model.generate(torch.tensor([input_ids]),  num_beams=4,  max_length=512,  eos_token_id=1)\n",
        "tokenizer.decode(summary_ids.squeeze().tolist(), skip_special_tokens=True)\n",
        "\n",
        "client_id = \"3ND2XnI6seUgHS9vuqx_\" # 개발자센터에서 발급받은 Client ID 값\n",
        "client_secret = \"YjNIUDTT0y\" # 개발자센터에서 발급받은 Client Secret 값\n",
        "\n",
        "encText = urllib.parse.quote(text)\n",
        "data = \"source=ko&target=en&text=\" + encText\n",
        "url = \"https://openapi.naver.com/v1/papago/n2mt\"\n",
        "request = urllib.request.Request(url)\n",
        "request.add_header(\"X-Naver-Client-Id\",client_id)\n",
        "request.add_header(\"X-Naver-Client-Secret\",client_secret)\n",
        "response = urllib.request.urlopen(request, data=data.encode(\"utf-8\"))\n",
        "rescode = response.getcode()\n",
        " \n",
        "if(rescode==200):\n",
        "    response_body = response.read()\n",
        "    print(json.loads(response_body)['message']['result']['translatedText'])\n",
        "else:\n",
        "    print(\"Error Code:\" + rescode)"
      ],
      "metadata": {
        "colab": {
          "base_uri": "https://localhost:8080/"
        },
        "id": "zeolNf5cZfbu",
        "outputId": "97838140-762d-4447-838e-3ae416fb7fae"
      },
      "execution_count": 26,
      "outputs": [
        {
          "output_type": "stream",
          "name": "stderr",
          "text": [
            "You passed along `num_labels=3` with an incompatible id to label map: {'0': 'NEGATIVE', '1': 'POSITIVE'}. The number of labels wil be overwritten to 2.\n"
          ]
        },
        {
          "output_type": "stream",
          "name": "stdout",
          "text": [
            "일기 요약 : \n",
            "I went to an amusement park with my family yesterday. I rode a merry-go-round, a bumper car, and a roller coaster.It was so much fun. The weather was nice and there were not many people, so I could ride many rides. During the day, I rode rides and saw animals, and in the evening, I saw a parade performance. The parade was awesome.  When I came back home, I was very tired and tired because it was past 11 o'clock, but I was happy because I had a fun day. ###\n"
          ]
        }
      ]
    }
  ]
}